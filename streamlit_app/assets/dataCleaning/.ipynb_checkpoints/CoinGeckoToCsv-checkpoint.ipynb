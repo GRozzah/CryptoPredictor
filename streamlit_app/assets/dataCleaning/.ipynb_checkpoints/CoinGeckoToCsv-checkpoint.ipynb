{
 "cells": [
  {
   "cell_type": "code",
   "execution_count": null,
   "id": "73f2b648-2701-45c6-baf6-4bc227dd0d42",
   "metadata": {},
   "outputs": [],
   "source": [
    "\n",
    "\n",
    "# Fetch cryptocurrency tickers with names from CoinGecko\n",
    "def fetch_crypto_tickers(limit=250):\n",
    "    \"\"\"Fetch cryptocurrency tickers from CoinGecko API and clean the data.\"\"\"\n",
    "    try:\n",
    "        url = \"https://api.coingecko.com/api/v3/coins/markets\"\n",
    "        params = {\n",
    "            \"vs_currency\": \"usd\",\n",
    "            \"order\": \"market_cap_desc\",\n",
    "            \"per_page\": limit,\n",
    "            \"page\": 1\n",
    "        }\n",
    "        response = requests.get(url, params=params)\n",
    "        response.raise_for_status()  # Raise an error for bad responses\n",
    "        data = response.json()\n",
    "\n",
    "        # Extract and clean the data into a DataFrame\n",
    "        ticker_data = [{\"ticker\": f\"{coin['symbol'].upper()}-USD\", \"name\": coin['name']} for coin in data]\n",
    "        df = pd.DataFrame(ticker_data)\n",
    "\n",
    "        # Save to CSV\n",
    "        output_file = \"crypto_tickers.csv\"\n",
    "        df.to_csv(output_file, index=False)\n",
    "        print(f\"Data successfully written to '{output_file}'.\")\n",
    "        return df\n",
    "\n",
    "    except requests.exceptions.RequestException as e:\n",
    "        print(f\"Failed to fetch cryptocurrency tickers: {e}\")\n",
    "        return pd.DataFrame()\n",
    "\n",
    "# Fetch and display the first few rows\n",
    "tickers_df = fetch_crypto_tickers()\n",
    "display(tickers_df.head())\n"
   ]
  },
  {
   "cell_type": "code",
   "execution_count": null,
   "id": "a088dcf9-4a6b-4278-80c9-c8315ecdfad7",
   "metadata": {},
   "outputs": [],
   "source": [
    "import requests\n",
    "import pandas as pd"
   ]
  },
  {
   "cell_type": "code",
   "execution_count": null,
   "id": "ebeb53af-329e-4b49-a273-d14b8cc815a0",
   "metadata": {},
   "outputs": [],
   "source": []
  }
 ],
 "metadata": {
  "kernelspec": {
   "display_name": "Python 3 (ipykernel)",
   "language": "python",
   "name": "python3"
  },
  "language_info": {
   "codemirror_mode": {
    "name": "ipython",
    "version": 3
   },
   "file_extension": ".py",
   "mimetype": "text/x-python",
   "name": "python",
   "nbconvert_exporter": "python",
   "pygments_lexer": "ipython3",
   "version": "3.10.12"
  }
 },
 "nbformat": 4,
 "nbformat_minor": 5
}
